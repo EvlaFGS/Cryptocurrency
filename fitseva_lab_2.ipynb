{
 "cells": [
  {
   "cell_type": "markdown",
   "metadata": {},
   "source": [
    "Вариант 1"
   ]
  },
  {
   "cell_type": "code",
   "execution_count": 3,
   "metadata": {},
   "outputs": [
    {
     "name": "stdout",
     "output_type": "stream",
     "text": [
      "hash = 39322da636383facee5837914a5580287b05e59553aee1eb18eba682268e791728c7b663374bbea8d4a8de94c71cb5d8, \n",
      " data = 0000000000000000000000000000000000000000000000000000000000000000\n",
      " nonce = 0\n",
      "\n",
      "prev_hash = 39322da636383facee5837914a5580287b05e59553aee1eb18eba682268e791728c7b663374bbea8d4a8de94c71cb5d8,\n",
      " hash = 0001ec883cd8a9f674be0945c7fd2b61627acf9dc0557d71fb4c934faf7d6343eff7871231eac411b6b7d91f7b7f2951,\n",
      " data = Ночь\n",
      " nonce = 218\n",
      "\n",
      "prev_hash = 0001ec883cd8a9f674be0945c7fd2b61627acf9dc0557d71fb4c934faf7d6343eff7871231eac411b6b7d91f7b7f2951,\n",
      " hash = 0007d76c9af0bb2b6ccdece121fdb0868fefc1531a2ffce2112659a3f14566f23925f95302767074d9bab94160d078b1,\n",
      " data = Улица\n",
      " nonce = 1683\n",
      "\n",
      "prev_hash = 0007d76c9af0bb2b6ccdece121fdb0868fefc1531a2ffce2112659a3f14566f23925f95302767074d9bab94160d078b1,\n",
      " hash = 0004694bbe3f3e0a3680f3b0ca0408c2b82791c5a6d6d6a3d20cd943a3fc1e20895c40b043c3b4bde98188639a4d53e1,\n",
      " data = Фонарь\n",
      " nonce = 19779\n",
      "\n",
      "prev_hash = 0004694bbe3f3e0a3680f3b0ca0408c2b82791c5a6d6d6a3d20cd943a3fc1e20895c40b043c3b4bde98188639a4d53e1,\n",
      " hash = 0000387970ca27e115381adb106a40e9c79c437aa56caf599248b08007ad72e8e17d9abe0673925514db803144040851,\n",
      " data = Аптека\n",
      " nonce = 31321\n",
      "\n"
     ]
    }
   ],
   "source": [
    "import hashlib as h\n",
    "from dataclasses import dataclass\n",
    "\n",
    "\n",
    "@dataclass\n",
    "class Block:\n",
    "    def __init__(self, _data, _prev = None ):\n",
    "        self.prev = _prev\n",
    "\n",
    "        self.data = _data\n",
    "        self.nonce = 0\n",
    "        self.ver = 1\n",
    "\n",
    "\n",
    "    def get_hash(self):\n",
    "        __data = str([self.prev, self.data, self.nonce, self.ver])\n",
    "\n",
    "        if self.prev:\n",
    "            __prev_hash = self.prev.get_hash()\n",
    "            __data += str(__prev_hash)\n",
    "        return h.sha384(__data.encode()).hexdigest()\n",
    "\n",
    "    def __str__(self):\n",
    "        if self.prev:\n",
    "            return f\"prev_hash = {self.prev.get_hash()},\\n hash = {self.get_hash()},\\n data = {self.data}\\n nonce = {self.nonce}\\n\"\n",
    "\n",
    "        return f\"hash = {self.get_hash()}, \\n data = {self.data}\\n nonce = {self.nonce}\\n\"\n",
    "\n",
    "    def mine(self, num_zeroes: int):\n",
    "        while (self.get_hash()[0:num_zeroes] != '0' * num_zeroes) or (self.get_hash()[-1] != '1'):\n",
    "            self.nonce += 1\n",
    "\n",
    "\n",
    "class Blockchain:\n",
    "    def __init__(self):\n",
    "        self.__DIF = 3\n",
    "        self.blocks = []\n",
    "        self.blocks.append(Block(_data=\"0\"*64))\n",
    "\n",
    "    def append(self, _data):\n",
    "        self.blocks.append(Block(_prev=self.blocks[-1], _data=_data))\n",
    "        self.blocks[-1].mine(self.__DIF)\n",
    "\n",
    "    def __str__(self):\n",
    "        for b in self.blocks:\n",
    "            print(b.__str__())\n",
    "\n",
    "\n",
    "if __name__ == '__main__':\n",
    "    b = Blockchain()\n",
    "    b.append(_data=\"Ночь\")\n",
    "    b.append(_data=\"Улица\")\n",
    "    b.append(_data=\"Фонарь\")\n",
    "    b.append(_data=\"Аптека\")\n",
    "\n",
    "    b.__str__()"
   ]
  }
 ],
 "metadata": {
  "kernelspec": {
   "display_name": "Python 3.9.13 64-bit",
   "language": "python",
   "name": "python3"
  },
  "language_info": {
   "codemirror_mode": {
    "name": "ipython",
    "version": 3
   },
   "file_extension": ".py",
   "mimetype": "text/x-python",
   "name": "python",
   "nbconvert_exporter": "python",
   "pygments_lexer": "ipython3",
   "version": "3.9.13"
  },
  "orig_nbformat": 4,
  "vscode": {
   "interpreter": {
    "hash": "8e284ee3255a07ad8bf76694974743c4c81cb57e7c969474d752d949b11d721e"
   }
  }
 },
 "nbformat": 4,
 "nbformat_minor": 2
}
